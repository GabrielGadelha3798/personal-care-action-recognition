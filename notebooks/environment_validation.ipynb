{
 "cells": [
  {
   "cell_type": "code",
   "execution_count": null,
   "metadata": {},
   "outputs": [],
   "source": [
    "# 1. Verificar Torch e CUDA\n",
    "import torch\n",
    "print(f\"torch version: {torch.__version__}\")\n",
    "print(f\"CUDA available: {torch.cuda.is_available()}\")\n",
    "if torch.cuda.is_available():\n",
    "    print(f\"CUDA device name: {torch.cuda.get_device_name(0)}\")\n",
    "    print(f\"CUDA device count: {torch.cuda.device_count()}\")\n",
    "else:\n",
    "    print(\"CUDA is not available. Check your installation!\")"
   ]
  },
  {
   "cell_type": "code",
   "execution_count": null,
   "metadata": {},
   "outputs": [],
   "source": [
    "# 2. Verificar Torchvision\n",
    "import torchvision\n",
    "print(f\"torchvision version: {torchvision.__version__}\")"
   ]
  },
  {
   "cell_type": "code",
   "execution_count": null,
   "metadata": {},
   "outputs": [],
   "source": [
    "# 3. Teste simples com Tensor\n",
    "x = torch.rand(3, 3)\n",
    "print(f\"Random tensor:\\n{x}\")"
   ]
  },
  {
   "cell_type": "code",
   "execution_count": null,
   "metadata": {},
   "outputs": [],
   "source": [
    "# 4. OpenCV\n",
    "import cv2\n",
    "print(f\"OpenCV version: {cv2.__version__}\")"
   ]
  },
  {
   "cell_type": "code",
   "execution_count": null,
   "metadata": {},
   "outputs": [],
   "source": [
    "# 5. NumPy\n",
    "import numpy as np\n",
    "print(f\"Numpy version: {np.__version__}\")\n",
    "print(f\"Numpy array test: {np.arange(5)}\")"
   ]
  },
  {
   "cell_type": "code",
   "execution_count": null,
   "metadata": {},
   "outputs": [],
   "source": [
    "# Criar imagem preta para teste\n",
    "test_img = 255 * torch.ones(100, 100, 3, dtype=torch.uint8).numpy()\n",
    "cv2.imwrite('opencv_test_image.jpg', test_img)\n",
    "print(\"OpenCV image write test completed ✅\")\n",
    "\n",
    "# lendo a imagem\n",
    "img = cv2.imread('opencv_test_image.jpg')\n",
    "print(f\"Image shape: {img.shape}\")\n",
    "print(f\"Image dtype: {img.dtype}\")\n",
    "print(f\"Image max value: {img.max()}\")\n",
    "print(f\"Image min value: {img.min()}\")\n",
    "# Convertendo para Tensor, testando GPU\n",
    "img_tensor = torch.from_numpy(img).permute(2, 0, 1).float() / 255.0\n",
    "if torch.cuda.is_available():\n",
    "    img_tensor = img_tensor.cuda()\n",
    "print(f\"Image tensor shape: {img_tensor.shape}\")\n",
    "print(f\"Image tensor dtype: {img_tensor.dtype}\")\n",
    "print(f\"Image tensor max value: {img_tensor.max()}\")\n",
    "print(f\"Image tensor min value: {img_tensor.min()}\")\n",
    "# Teste de operação com Tensor\n",
    "img_tensor = img_tensor * 2.0\n",
    "print(f\"Image tensor after operation max value: {img_tensor.max()}\")\n",
    "print(f\"Image tensor after operation min value: {img_tensor.min()}\")\n",
    "# Convertendo de volta para imagem\n",
    "img_back = img_tensor.permute(1, 2, 0).cpu().numpy() * 255.0\n",
    "img_back = img_back.astype('uint8')\n",
    "print(f\"Image back shape: {img_back.shape}\")\n",
    "print(f\"Image back dtype: {img_back.dtype}\")\n",
    "\n",
    "# Deletar imagem de teste\n",
    "import os\n",
    "os.remove('opencv_test_image.jpg')\n",
    "print(\"Test image deleted ✅\")"
   ]
  },
  {
   "cell_type": "code",
   "execution_count": null,
   "metadata": {},
   "outputs": [],
   "source": [
    "# Generate a simple MP4 video file\n",
    "video_filename = 'test_video.mp4'\n",
    "fourcc = cv2.VideoWriter_fourcc(*'mp4v')  # Codec for MP4\n",
    "fps = 30\n",
    "frame_size = (640, 480)\n",
    "video_writer = cv2.VideoWriter(video_filename, fourcc, fps, frame_size)\n",
    "\n",
    "# Create a video with a moving rectangle\n",
    "for i in range(100):\n",
    "    frame = np.zeros((480, 640, 3), dtype=np.uint8)\n",
    "    cv2.rectangle(frame, (i * 5, 100), (i * 5 + 50, 200), (0, 255, 0), -1)\n",
    "    video_writer.write(frame)\n",
    "\n",
    "video_writer.release()\n",
    "print(f\"Video file '{video_filename}' created ✅\")\n",
    "\n",
    "# Test OpenCV VideoCapture\n",
    "cap = cv2.VideoCapture(video_filename)\n",
    "if not cap.isOpened():\n",
    "    print(\"Error: Could not open video file.\")\n",
    "else:\n",
    "    print(\"VideoCapture test:\")\n",
    "    frame_count = 0\n",
    "    while True:\n",
    "        ret, frame = cap.read()\n",
    "        if not ret:\n",
    "            break\n",
    "        frame_count += 1\n",
    "    print(f\"Total frames read: {frame_count}\")\n",
    "cap.release()\n",
    "\n",
    "# Clean up by deleting the video file\n",
    "os.remove(video_filename)\n",
    "print(\"Test video deleted ✅\")"
   ]
  },
  {
   "cell_type": "code",
   "execution_count": null,
   "metadata": {},
   "outputs": [],
   "source": [
    "# 6. Pandas\n",
    "import pandas as pd\n",
    "print(f\"Pandas version: {pd.__version__}\")\n",
    "df = pd.DataFrame({'A': [1, 2], 'B': [3, 4]})\n",
    "print(f\"Pandas DataFrame test:\\n{df}\")"
   ]
  },
  {
   "cell_type": "code",
   "execution_count": null,
   "metadata": {},
   "outputs": [],
   "source": [
    "# 7. Matplotlib\n",
    "import matplotlib\n",
    "import matplotlib.pyplot as plt\n",
    "\n",
    "print(f\"Matplotlib version: {matplotlib.__version__}\")\n",
    "plt.plot([0, 1, 2], [0, 1, 4])\n",
    "plt.title(\"Matplotlib test plot\")"
   ]
  },
  {
   "cell_type": "code",
   "execution_count": null,
   "metadata": {},
   "outputs": [],
   "source": [
    "# ✅ 8. TQDM\n",
    "from tqdm import tqdm\n",
    "print(\"TQDM test:\")\n",
    "for i in tqdm(range(5)):\n",
    "    pass"
   ]
  }
 ],
 "metadata": {
  "kernelspec": {
   "display_name": "venv",
   "language": "python",
   "name": "python3"
  },
  "language_info": {
   "codemirror_mode": {
    "name": "ipython",
    "version": 3
   },
   "file_extension": ".py",
   "mimetype": "text/x-python",
   "name": "python",
   "nbconvert_exporter": "python",
   "pygments_lexer": "ipython3",
   "version": "3.9.13"
  }
 },
 "nbformat": 4,
 "nbformat_minor": 2
}
