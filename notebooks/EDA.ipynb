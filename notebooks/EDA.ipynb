{
 "cells": [
  {
   "cell_type": "code",
   "execution_count": null,
   "id": "e6115b2f",
   "metadata": {},
   "outputs": [],
   "source": [
    "# read all files per class folder\n",
    "import os\n",
    "import cv2\n",
    "import numpy as np\n",
    "DATA_PATH = \"../data/Split/UCF101-filtered\"\n",
    "for class_name in os.listdir(DATA_PATH):\n",
    "    class_dir = os.path.join(DATA_PATH, class_name)\n",
    "    total_class_length = 0\n",
    "    for video in os.listdir(class_dir):\n",
    "        if video.endswith(\".avi\"):\n",
    "            # Read video and calculate length in seconds (frames / fps)\n",
    "            video_path = os.path.join(class_dir, video)\n",
    "            cap = cv2.VideoCapture(video_path)\n",
    "            fps = cap.get(cv2.CAP_PROP_FPS)\n",
    "            total_frames = int(cap.get(cv2.CAP_PROP_FRAME_COUNT))\n",
    "            total_seconds = total_frames / fps\n",
    "            cap.release()\n",
    "            # sum the length of all videos in the class\n",
    "            total_class_length += total_seconds\n",
    "    print(f\"Total length of class {class_name}: {total_class_length:.2f} seconds\")"
   ]
  }
 ],
 "metadata": {
  "language_info": {
   "name": "python"
  }
 },
 "nbformat": 4,
 "nbformat_minor": 5
}
